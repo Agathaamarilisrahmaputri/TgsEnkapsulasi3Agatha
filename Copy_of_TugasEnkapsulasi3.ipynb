{
  "nbformat": 4,
  "nbformat_minor": 0,
  "metadata": {
    "colab": {
      "provenance": [],
      "include_colab_link": true
    },
    "kernelspec": {
      "name": "python3",
      "display_name": "Python 3"
    },
    "language_info": {
      "name": "python"
    }
  },
  "cells": [
    {
      "cell_type": "markdown",
      "metadata": {
        "id": "view-in-github",
        "colab_type": "text"
      },
      "source": [
        "<a href=\"https://colab.research.google.com/github/Agathaamarilisrahmaputri/TgsEnkapsulasi3Agatha/blob/main/Copy_of_TugasEnkapsulasi3.ipynb\" target=\"_parent\"><img src=\"https://colab.research.google.com/assets/colab-badge.svg\" alt=\"Open In Colab\"/></a>"
      ]
    },
    {
      "cell_type": "markdown",
      "source": [
        "Buatlah kelas RekeningBank dengan atribut berikut:\n",
        "\n",
        "*   nama_pemilik (private)\n",
        "*   saldo (private)\n",
        "\n",
        "Berikan metode berikut:\n",
        "\n",
        "*   __init__: Menginisialisasi saldo dan nama_pemilik.\n",
        "*   set_saldo: Mengubah nilai saldo.\n",
        "*   get_saldo: Mengembalikan nilai saldo.\n",
        "*   set_nama_pemilik: Mengubah nama pemilik.\n",
        "*   get_nama_pemilik: Mengembalikan nama pemilik.\n",
        "\n",
        "\n",
        "\n",
        "\n",
        "\n",
        "\n",
        "\n",
        "\n"
      ],
      "metadata": {
        "id": "PktiI90eS6Ee"
      }
    },
    {
      "cell_type": "code",
      "source": [
        "# Desain class\\\n",
        "class RekeningBank:\n",
        "  def __init__(self, nama_pemilik, saldo):\n",
        "    self.__nama_pemilik = nama_pemilik\n",
        "    self.__saldo = saldo\n",
        "\n",
        "# Menginialisasi nama_pemilik dan saldo\n",
        "  def get_nama_pemilik(self):\n",
        "    return self.__nama_pemilik\n",
        "\n",
        "  def set_nama_pemilik(self, nama_pemilik):\n",
        "    self.__nama_pemilik = nama_pemilik\n",
        "\n",
        "  def get_saldo(self):\n",
        "    return self.__saldo\n",
        "\n",
        "  def set_saldo(self, saldo):\n",
        "    self.__saldo = saldo\n",
        "\n",
        "  def setor(self, jumlah):\n",
        "    if jumlah > 0:\n",
        "      self.__saldo += jumlah\n",
        "      print('behasil.total saldo sekarang :', self.__saldo)\n",
        "    else:\n",
        "      print(\"jumlah setor harus lebih dari 0\")\n",
        "\n",
        "  def tarik(self, jumlah):\n",
        "    if jumlah > 0 and jumlah <= self.__saldo:\n",
        "      self.__saldo -= jumlah\n",
        "      print('tarik', jumlah)\n",
        "      print('berhasil. total saldo sekarang :', self.__saldo)\n",
        "    else:\n",
        "      print(\"jumlah saldo tidak mencukupi\")"
      ],
      "metadata": {
        "id": "Pyj-mkyciVfk"
      },
      "execution_count": 4,
      "outputs": []
    },
    {
      "cell_type": "code",
      "source": [
        "#Program utama untuk mendemonstrasikan class RekeningBank\n",
        "nacho= RekeningBank('nch',5000000)\n",
        "\n",
        "#Mengembalikan nilai saldo\n",
        "print('RekeningBank:',nacho.get_nama_pemilik(), 'saldo:', nacho.get_saldo())\n",
        "\n",
        "#Mengubah nilai saldo dan nama pemilik\n",
        "nacho.set_nama_pemilik('misasso')\n",
        "nacho.set_saldo('40000000')\n",
        "\n",
        "#Mengakses/menampilkan nama_pemilik dan saldo setelah diubah\n",
        "print('RekeningBank:', nacho.get_nama_pemilik(), 'saldo:', nacho.get_saldo())"
      ],
      "metadata": {
        "colab": {
          "base_uri": "https://localhost:8080/"
        },
        "id": "158mlXD-F4hw",
        "outputId": "d8b2b467-30d1-4693-c16e-ebcc327b9ef2"
      },
      "execution_count": 5,
      "outputs": [
        {
          "output_type": "stream",
          "name": "stdout",
          "text": [
            "RekeningBank: nch saldo: 5000000\n",
            "RekeningBank: misasso saldo: 40000000\n"
          ]
        }
      ]
    },
    {
      "cell_type": "code",
      "source": [
        "#Demo program utama\n",
        "RekeningBanknacho = RekeningBank(\"nch\",6000000)\n",
        "\n",
        "#Mengakses atau menampilkan informasi awal Rekeningbank\n",
        "print(\"informasi rekening bank sekarang:\")\n",
        "print(\"nama pemilik:\",RekeningBanknacho.get_nama_pemilik())\n",
        "print(\"saldo awal :\", RekeningBanknacho.get_saldo())\n",
        "\n",
        "#Melakukan setor\n",
        "RekeningBanknacho.setor(2000000) #jumlah lebih dari 0\n",
        "RekeningBanknacho.setor(0) #jumlah kurang dengan 0\n",
        "\n",
        "#Melakukan tarikan saldo\n",
        "RekeningBanknacho.tarik(500000) #jumlah saldo tidak melebihi saldo pertama\n",
        "RekeningBanknacho.tarik(5000000) #jumlah saldo melebihi saldo pertama\n",
        "\n",
        "#Mengakses atau menampilkan informasi akhir RekeningBankSaya\n",
        "print(\"informasi rekeningbanksaya :\")\n",
        "print(\"nama pemilik :\", RekeningBanknacho.get_nama_pemilik())\n",
        "print(\"saldo akhir :\", RekeningBanknacho.get_saldo())"
      ],
      "metadata": {
        "id": "aOwy6rfdSga2",
        "colab": {
          "base_uri": "https://localhost:8080/"
        },
        "outputId": "60c93550-1fd9-4336-9a86-c2b8fc030b36"
      },
      "execution_count": 6,
      "outputs": [
        {
          "output_type": "stream",
          "name": "stdout",
          "text": [
            "informasi rekening bank sekarang:\n",
            "nama pemilik: nch\n",
            "saldo awal : 6000000\n",
            "behasil.total saldo sekarang : 8000000\n",
            "jumlah setor harus lebih dari 0\n",
            "tarik 500000\n",
            "berhasil. total saldo sekarang : 7500000\n",
            "tarik 5000000\n",
            "berhasil. total saldo sekarang : 2500000\n",
            "informasi rekeningbanksaya :\n",
            "nama pemilik : nch\n",
            "saldo akhir : 2500000\n"
          ]
        }
      ]
    }
  ]
}